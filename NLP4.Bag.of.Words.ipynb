{
 "cells": [
  {
   "cell_type": "code",
   "execution_count": 36,
   "id": "b0ed7218-226d-4b60-b1e4-d83f4a48cbcd",
   "metadata": {},
   "outputs": [],
   "source": [
    "import pandas as pd\n",
    "import matplotlib.pyplot as plt\n",
    "\n",
    "import nltk\n",
    "from sklearn.model_selection import train_test_split\n",
    "from sklearn.feature_extraction.text import CountVectorizer\n",
    "from sklearn.linear_model import LogisticRegression\n",
    "from sklearn.metrics import accuracy_score"
   ]
  },
  {
   "cell_type": "code",
   "execution_count": 37,
   "id": "98eebc74-01d2-4eea-9694-c939e96e00fc",
   "metadata": {},
   "outputs": [
    {
     "data": {
      "text/html": [
       "<div>\n",
       "<style scoped>\n",
       "    .dataframe tbody tr th:only-of-type {\n",
       "        vertical-align: middle;\n",
       "    }\n",
       "\n",
       "    .dataframe tbody tr th {\n",
       "        vertical-align: top;\n",
       "    }\n",
       "\n",
       "    .dataframe thead th {\n",
       "        text-align: right;\n",
       "    }\n",
       "</style>\n",
       "<table border=\"1\" class=\"dataframe\">\n",
       "  <thead>\n",
       "    <tr style=\"text-align: right;\">\n",
       "      <th></th>\n",
       "      <th>textID</th>\n",
       "      <th>text</th>\n",
       "      <th>selected_text</th>\n",
       "      <th>sentiment</th>\n",
       "    </tr>\n",
       "  </thead>\n",
       "  <tbody>\n",
       "    <tr>\n",
       "      <th>0</th>\n",
       "      <td>cb774db0d1</td>\n",
       "      <td>I`d have responded, if I were going</td>\n",
       "      <td>I`d have responded, if I were going</td>\n",
       "      <td>neutral</td>\n",
       "    </tr>\n",
       "    <tr>\n",
       "      <th>1</th>\n",
       "      <td>549e992a42</td>\n",
       "      <td>Sooo SAD I will miss you here in San Diego!!!</td>\n",
       "      <td>Sooo SAD</td>\n",
       "      <td>negative</td>\n",
       "    </tr>\n",
       "    <tr>\n",
       "      <th>2</th>\n",
       "      <td>088c60f138</td>\n",
       "      <td>my boss is bullying me...</td>\n",
       "      <td>bullying me</td>\n",
       "      <td>negative</td>\n",
       "    </tr>\n",
       "    <tr>\n",
       "      <th>3</th>\n",
       "      <td>9642c003ef</td>\n",
       "      <td>what interview! leave me alone</td>\n",
       "      <td>leave me alone</td>\n",
       "      <td>negative</td>\n",
       "    </tr>\n",
       "    <tr>\n",
       "      <th>4</th>\n",
       "      <td>358bd9e861</td>\n",
       "      <td>Sons of ****, why couldn`t they put them on t...</td>\n",
       "      <td>Sons of ****,</td>\n",
       "      <td>negative</td>\n",
       "    </tr>\n",
       "  </tbody>\n",
       "</table>\n",
       "</div>"
      ],
      "text/plain": [
       "       textID                                               text  \\\n",
       "0  cb774db0d1                I`d have responded, if I were going   \n",
       "1  549e992a42      Sooo SAD I will miss you here in San Diego!!!   \n",
       "2  088c60f138                          my boss is bullying me...   \n",
       "3  9642c003ef                     what interview! leave me alone   \n",
       "4  358bd9e861   Sons of ****, why couldn`t they put them on t...   \n",
       "\n",
       "                         selected_text sentiment  \n",
       "0  I`d have responded, if I were going   neutral  \n",
       "1                             Sooo SAD  negative  \n",
       "2                          bullying me  negative  \n",
       "3                       leave me alone  negative  \n",
       "4                        Sons of ****,  negative  "
      ]
     },
     "execution_count": 37,
     "metadata": {},
     "output_type": "execute_result"
    }
   ],
   "source": [
    "df = pd.read_csv('train.csv')\n",
    "df.head()"
   ]
  },
  {
   "cell_type": "code",
   "execution_count": 38,
   "id": "3d65d95a-43b2-41c6-9292-a9e396ca1af5",
   "metadata": {},
   "outputs": [
    {
     "data": {
      "text/plain": [
       "(27480, 4)"
      ]
     },
     "execution_count": 38,
     "metadata": {},
     "output_type": "execute_result"
    }
   ],
   "source": [
    "df.shape"
   ]
  },
  {
   "cell_type": "code",
   "execution_count": 39,
   "id": "e87cf590-0826-4e21-9c5f-a0a80a07c8b1",
   "metadata": {},
   "outputs": [
    {
     "data": {
      "text/html": [
       "<div>\n",
       "<style scoped>\n",
       "    .dataframe tbody tr th:only-of-type {\n",
       "        vertical-align: middle;\n",
       "    }\n",
       "\n",
       "    .dataframe tbody tr th {\n",
       "        vertical-align: top;\n",
       "    }\n",
       "\n",
       "    .dataframe thead th {\n",
       "        text-align: right;\n",
       "    }\n",
       "</style>\n",
       "<table border=\"1\" class=\"dataframe\">\n",
       "  <thead>\n",
       "    <tr style=\"text-align: right;\">\n",
       "      <th></th>\n",
       "      <th>textID</th>\n",
       "      <th>text</th>\n",
       "      <th>selected_text</th>\n",
       "      <th>sentiment</th>\n",
       "    </tr>\n",
       "  </thead>\n",
       "  <tbody>\n",
       "    <tr>\n",
       "      <th>1</th>\n",
       "      <td>549e992a42</td>\n",
       "      <td>Sooo SAD I will miss you here in San Diego!!!</td>\n",
       "      <td>Sooo SAD</td>\n",
       "      <td>negative</td>\n",
       "    </tr>\n",
       "    <tr>\n",
       "      <th>2</th>\n",
       "      <td>088c60f138</td>\n",
       "      <td>my boss is bullying me...</td>\n",
       "      <td>bullying me</td>\n",
       "      <td>negative</td>\n",
       "    </tr>\n",
       "    <tr>\n",
       "      <th>3</th>\n",
       "      <td>9642c003ef</td>\n",
       "      <td>what interview! leave me alone</td>\n",
       "      <td>leave me alone</td>\n",
       "      <td>negative</td>\n",
       "    </tr>\n",
       "    <tr>\n",
       "      <th>4</th>\n",
       "      <td>358bd9e861</td>\n",
       "      <td>Sons of ****, why couldn`t they put them on t...</td>\n",
       "      <td>Sons of ****,</td>\n",
       "      <td>negative</td>\n",
       "    </tr>\n",
       "    <tr>\n",
       "      <th>6</th>\n",
       "      <td>6e0c6d75b1</td>\n",
       "      <td>2am feedings for the baby are fun when he is a...</td>\n",
       "      <td>fun</td>\n",
       "      <td>positive</td>\n",
       "    </tr>\n",
       "    <tr>\n",
       "      <th>...</th>\n",
       "      <td>...</td>\n",
       "      <td>...</td>\n",
       "      <td>...</td>\n",
       "      <td>...</td>\n",
       "    </tr>\n",
       "    <tr>\n",
       "      <th>27474</th>\n",
       "      <td>b78ec00df5</td>\n",
       "      <td>enjoy ur night</td>\n",
       "      <td>enjoy</td>\n",
       "      <td>positive</td>\n",
       "    </tr>\n",
       "    <tr>\n",
       "      <th>27475</th>\n",
       "      <td>4eac33d1c0</td>\n",
       "      <td>wish we could come see u on Denver  husband l...</td>\n",
       "      <td>d lost</td>\n",
       "      <td>negative</td>\n",
       "    </tr>\n",
       "    <tr>\n",
       "      <th>27476</th>\n",
       "      <td>4f4c4fc327</td>\n",
       "      <td>I`ve wondered about rake to.  The client has ...</td>\n",
       "      <td>, don`t force</td>\n",
       "      <td>negative</td>\n",
       "    </tr>\n",
       "    <tr>\n",
       "      <th>27477</th>\n",
       "      <td>f67aae2310</td>\n",
       "      <td>Yay good for both of you. Enjoy the break - y...</td>\n",
       "      <td>Yay good for both of you.</td>\n",
       "      <td>positive</td>\n",
       "    </tr>\n",
       "    <tr>\n",
       "      <th>27478</th>\n",
       "      <td>ed167662a5</td>\n",
       "      <td>But it was worth it  ****.</td>\n",
       "      <td>But it was worth it  ****.</td>\n",
       "      <td>positive</td>\n",
       "    </tr>\n",
       "  </tbody>\n",
       "</table>\n",
       "<p>16363 rows × 4 columns</p>\n",
       "</div>"
      ],
      "text/plain": [
       "           textID                                               text  \\\n",
       "1      549e992a42      Sooo SAD I will miss you here in San Diego!!!   \n",
       "2      088c60f138                          my boss is bullying me...   \n",
       "3      9642c003ef                     what interview! leave me alone   \n",
       "4      358bd9e861   Sons of ****, why couldn`t they put them on t...   \n",
       "6      6e0c6d75b1  2am feedings for the baby are fun when he is a...   \n",
       "...           ...                                                ...   \n",
       "27474  b78ec00df5                                     enjoy ur night   \n",
       "27475  4eac33d1c0   wish we could come see u on Denver  husband l...   \n",
       "27476  4f4c4fc327   I`ve wondered about rake to.  The client has ...   \n",
       "27477  f67aae2310   Yay good for both of you. Enjoy the break - y...   \n",
       "27478  ed167662a5                         But it was worth it  ****.   \n",
       "\n",
       "                    selected_text sentiment  \n",
       "1                        Sooo SAD  negative  \n",
       "2                     bullying me  negative  \n",
       "3                  leave me alone  negative  \n",
       "4                   Sons of ****,  negative  \n",
       "6                             fun  positive  \n",
       "...                           ...       ...  \n",
       "27474                       enjoy  positive  \n",
       "27475                      d lost  negative  \n",
       "27476               , don`t force  negative  \n",
       "27477   Yay good for both of you.  positive  \n",
       "27478  But it was worth it  ****.  positive  \n",
       "\n",
       "[16363 rows x 4 columns]"
      ]
     },
     "execution_count": 39,
     "metadata": {},
     "output_type": "execute_result"
    }
   ],
   "source": [
    "# Filtre le DataFrame pr éliminer les lignes où 'neutral' apparait : \n",
    "df_filtered = df[df['sentiment'] != 'neutral']\n",
    "\n",
    "df_filtered"
   ]
  },
  {
   "cell_type": "code",
   "execution_count": 40,
   "id": "eba8a311-6947-4693-a7d9-b4a499e60353",
   "metadata": {},
   "outputs": [
    {
     "data": {
      "text/plain": [
       "(16363, 4)"
      ]
     },
     "execution_count": 40,
     "metadata": {},
     "output_type": "execute_result"
    }
   ],
   "source": [
    "df_filtered.shape"
   ]
  },
  {
   "cell_type": "code",
   "execution_count": 41,
   "id": "33f6237a-30e8-437d-b3d5-a7c345b8e7d7",
   "metadata": {},
   "outputs": [
    {
     "data": {
      "text/plain": [
       "sentiment\n",
       "positive    52.447595\n",
       "negative    47.552405\n",
       "Name: count, dtype: float64"
      ]
     },
     "execution_count": 41,
     "metadata": {},
     "output_type": "execute_result"
    }
   ],
   "source": [
    "# Calcule la fréqce des sentimts :\n",
    "sentiment = df_filtered['sentiment'].value_counts()\n",
    "\n",
    "# Calcule le % de chaq sentimt :\n",
    "sentiment_pourcent = (sentiment / sentiment.sum()) * 100\n",
    "\n",
    "sentiment_pourcent"
   ]
  },
  {
   "cell_type": "code",
   "execution_count": 42,
   "id": "ad848a07-8b62-4135-8436-581351fbf67b",
   "metadata": {},
   "outputs": [
    {
     "name": "stdout",
     "output_type": "stream",
     "text": [
      "X_train:\n",
      "9186                                  Wish I was @ wembley\n",
      "12345    and because I wasn`t having a bad enough time ...\n",
      "20086    _Perth Awesome...love top gear..whos your favo...\n",
      "1674     totally forgot she had soccer today. ugh  toda...\n",
      "21750                                 you are very welcome\n",
      "                               ...                        \n",
      "18649             so...i really want to be home right now.\n",
      "16055     I realised when I got home that I left mine i...\n",
      "27303    _Kay2 welcome to Twitter babes! I know what yo...\n",
      "16444    i`m doin my tweets on my phone so i have on cl...\n",
      "18392                        still in love with marky mark\n",
      "Name: text, Length: 12272, dtype: object\n",
      "\n",
      "X_test:\n",
      "5680      - no,  is buttfuck stupid. I`m just silly and...\n",
      "7661      get better omg i still dont believe that i di...\n",
      "2670     HollowbabesHere comes the utter shite #bgt <I ...\n",
      "5020      Thank You Clayton. Going to my favorite Greek...\n",
      "26962     I`m watching it at the moment  -sighs- and st...\n",
      "                               ...                        \n",
      "4062                                       I can`t take it\n",
      "4618      so where r u spinning now that the Hookah is ...\n",
      "18293              WHAT?! i was wanting to see that show!!\n",
      "16606                     Har vondt i ryggen My back hurts\n",
      "5223     Laying in bed with a book & some beautiful mus...\n",
      "Name: text, Length: 4091, dtype: object\n",
      "\n",
      "y_train:\n",
      "9186     positive\n",
      "12345    negative\n",
      "20086    positive\n",
      "1674     negative\n",
      "21750    positive\n",
      "           ...   \n",
      "18649    positive\n",
      "16055    positive\n",
      "27303    positive\n",
      "16444    positive\n",
      "18392    positive\n",
      "Name: sentiment, Length: 12272, dtype: object\n",
      "\n",
      "y_test:\n",
      "5680     negative\n",
      "7661     negative\n",
      "2670     negative\n",
      "5020     positive\n",
      "26962    negative\n",
      "           ...   \n",
      "4062     negative\n",
      "4618     negative\n",
      "18293    negative\n",
      "16606    negative\n",
      "5223     positive\n",
      "Name: sentiment, Length: 4091, dtype: object\n"
     ]
    }
   ],
   "source": [
    "# Copie la colonne 'text' ds 1 Série X et la colonne 'sentimt' ds 1 Série y :\n",
    "X = df_filtered['text']\n",
    "y = df_filtered['sentiment']\n",
    "\n",
    "# Appliq 1 train-test split avec random_state=32 et train_size=0.75 :\n",
    "X_train, X_test, y_train, y_test = train_test_split(X, y, test_size=0.25, train_size=0.75, random_state=32)\n",
    "\n",
    "# Affiche les résultats :\n",
    "print(\"X_train:\")\n",
    "print(X_train)\n",
    "print(\"\\nX_test:\")\n",
    "print(X_test)\n",
    "print(\"\\ny_train:\")\n",
    "print(y_train)\n",
    "print(\"\\ny_test:\")\n",
    "print(y_test)"
   ]
  },
  {
   "cell_type": "code",
   "execution_count": 43,
   "id": "c0240837-a542-4cf6-aaae-d373ef970d30",
   "metadata": {},
   "outputs": [
    {
     "name": "stdout",
     "output_type": "stream",
     "text": [
      "Shape de X_train_CV: (12272, 15806)\n",
      "Shape de X_test_CV: (4091, 15806)\n"
     ]
    }
   ],
   "source": [
    "# Créer 1 mdèle CountVectorizer :\n",
    "vectorizer = CountVectorizer()\n",
    "\n",
    "# Entraîne le mdèle sur X_train et créer la matrice de caractéristiq X_train_CV :\n",
    "X_train_CV = vectorizer.fit_transform(X_train)\n",
    "\n",
    "# Créer la matrice de caractéristiq X_test_CV en utilisant le même mdèle sans réentraîner :\n",
    "X_test_CV = vectorizer.transform(X_test)\n",
    "\n",
    "# Affiche la forme de la matrice X_train_CV et X_test_CV :\n",
    "print(\"Shape de X_train_CV:\", X_train_CV.shape)\n",
    "print(\"Shape de X_test_CV:\", X_test_CV.shape)"
   ]
  },
  {
   "cell_type": "code",
   "execution_count": 45,
   "id": "afe5c57d-4799-406e-8d0f-64c828a06f26",
   "metadata": {},
   "outputs": [
    {
     "name": "stdout",
     "output_type": "stream",
     "text": [
      "Exactitude sur l'ensble d'entraînemt: 0.9659387222946545\n",
      "Exactitude sur l'ensble de test: 0.8772916157418724\n"
     ]
    }
   ],
   "source": [
    "# Initialise la régress° logistiq :\n",
    "logreg = LogisticRegression()\n",
    "\n",
    "# Entraîne le mdèle de régress° logistiq sur l'ensble d'entraînemt :\n",
    "logreg.fit(X_train_CV, y_train)\n",
    "\n",
    "# Prédis les résultats pr l'ensble d'entraînemt :\n",
    "y_train_pred = logreg.predict(X_train_CV)\n",
    "\n",
    "# Prédis les résultats pr l'ensble de test :\n",
    "y_test_pred = logreg.predict(X_test_CV)\n",
    "\n",
    "# Calcule l'exactitude pr l'ensble d'entraînemt :\n",
    "train_accuracy = accuracy_score(y_train, y_train_pred)\n",
    "\n",
    "# Calcule l'exactitude pr l'ensble de test :\n",
    "test_accuracy = accuracy_score(y_test, y_test_pred)\n",
    "\n",
    "# Affiche les résultats :\n",
    "print(\"Exactitude sur l'ensble d'entraînemt:\", train_accuracy)\n",
    "print(\"Exactitude sur l'ensble de test:\", test_accuracy)"
   ]
  },
  {
   "cell_type": "code",
   "execution_count": 47,
   "id": "ae5bc565-81ce-4cc2-99ab-81fd7d7e8e63",
   "metadata": {
    "collapsed": true,
    "jupyter": {
     "outputs_hidden": true
    }
   },
   "outputs": [
    {
     "name": "stdout",
     "output_type": "stream",
     "text": [
      "Tweet: HollowbabesHere comes the utter shite #bgt <I completely agree\n",
      "Label réel: negative, Label prédit: positive\n",
      "--------------------------------------------------------------------------------\n",
      "Tweet:  SUFFICATION NO BREATHING. It`s okay. There`ll be more. You`re invited to mine, but I can`t promise fun times.  *Jinx\n",
      "Label réel: negative, Label prédit: positive\n",
      "--------------------------------------------------------------------------------\n",
      "Tweet: I love music so much that i`ve gone through pain to play :S my sides of my fingers now are peeling and have blisters from playing so much\n",
      "Label réel: negative, Label prédit: positive\n",
      "--------------------------------------------------------------------------------\n",
      "Tweet:  have an amazing time with your mommas tomorrow! Show them how much they mean to you  Whatever you do they will love it\n",
      "Label réel: negative, Label prédit: positive\n",
      "--------------------------------------------------------------------------------\n",
      "Tweet: Watching 1971 edition if Old Grey Whistle Test. Fanny, Mamas and the Papas & Isaac Hayes. Don`t make shows like this anymore\n",
      "Label réel: negative, Label prédit: positive\n",
      "--------------------------------------------------------------------------------\n",
      "Tweet: i wanna vote for Miley Cyrus for the mtv movie awards..but i don`t know where i could  somebody could send me a link? thaank you <3\n",
      "Label réel: positive, Label prédit: negative\n",
      "--------------------------------------------------------------------------------\n",
      "Tweet: I can only message those who message me, if we`re fwends...so those that want replies..follow me.  hmm..that sounds funny..\n",
      "Label réel: positive, Label prédit: negative\n",
      "--------------------------------------------------------------------------------\n",
      "Tweet: wish I could feel no pain (8)  but it`s ok, at least they like Brazil!\n",
      "Label réel: positive, Label prédit: negative\n",
      "--------------------------------------------------------------------------------\n",
      "Tweet:  so glad i`m not at uni anymore\n",
      "Label réel: positive, Label prédit: negative\n",
      "--------------------------------------------------------------------------------\n",
      "Tweet:  You`re not here. I hope you`re still resting.  I don`t want you to be stressed.\n",
      "Label réel: positive, Label prédit: negative\n",
      "--------------------------------------------------------------------------------\n"
     ]
    }
   ],
   "source": [
    "# Identifie les faux positifs et faux négatifs :\n",
    "faux_positifs = []\n",
    "faux_negatifs = []\n",
    "\n",
    "# Parcrs les prédict° et les vleurs réelles :\n",
    "for i in range(len(y_test)):\n",
    "    if y_test_pred[i] == 'positive' and y_test.iloc[i] != 'positive':\n",
    "        faux_positifs.append((X_test.iloc[i], y_test.iloc[i], y_test_pred[i]))\n",
    "    elif y_test_pred[i] == 'negative' and y_test.iloc[i] != 'negative':\n",
    "        faux_negatifs.append((X_test.iloc[i], y_test.iloc[i], y_test_pred[i]))\n",
    "\n",
    "# Affiche les 10 premiers faux positifs ou faux négatifs :\n",
    "# Combine faux positifs et faux négatifs\n",
    "faux_mal_predits = faux_positifs[:5] + faux_negatifs[:5]  \n",
    "\n",
    "\n",
    "# Affiche les 10 tweets mal prédits :\n",
    "for tweet, true_label, pred_label in faux_mal_predits:\n",
    "    print(f\"Tweet: {tweet}\")\n",
    "    print(f\"Label réel: {true_label}, Label prédit: {pred_label}\")\n",
    "    print(\"-\" * 80)"
   ]
  },
  {
   "cell_type": "code",
   "execution_count": null,
   "id": "9a252d2f-7639-4024-9d2b-c1bb04f1830e",
   "metadata": {},
   "outputs": [],
   "source": [
    "# Il se pt que l'on prédise mieux q le modèle dès lors s'il y à la présence d'émojis où de mots ambigus propres aux résx socx."
   ]
  }
 ],
 "metadata": {
  "kernelspec": {
   "display_name": "Python 3 (ipykernel)",
   "language": "python",
   "name": "python3"
  },
  "language_info": {
   "codemirror_mode": {
    "name": "ipython",
    "version": 3
   },
   "file_extension": ".py",
   "mimetype": "text/x-python",
   "name": "python",
   "nbconvert_exporter": "python",
   "pygments_lexer": "ipython3",
   "version": "3.12.7"
  }
 },
 "nbformat": 4,
 "nbformat_minor": 5
}
